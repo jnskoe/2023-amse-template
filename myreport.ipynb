{
 "cells": [
  {
   "attachments": {},
   "cell_type": "markdown",
   "metadata": {},
   "source": [
    "## Load and write Cyclist Data\n",
    "Create a pandas dataframe for every month of the year 2019. The data is collected from csv files which are uploaded on github. After each loading sequence the dataframe is written to a sqlite table. "
   ]
  },
  {
   "cell_type": "code",
   "execution_count": 1,
   "metadata": {},
   "outputs": [],
   "source": [
    "import pandas as pd\n",
    "\n",
    "for i in range(1,13):\n",
    "        num = str(i)\n",
    "        if len(num) == 1:\n",
    "            num = \"0\"+num    \n",
    "        df = pd.read_csv(\"https://raw.githubusercontent.com/od-ms/radverkehr-zaehlstellen/main/100031297/2019-\"+num+\".csv\")\n",
    "\n",
    "        df.to_sql(\"Monthdata\"+num,'sqlite:///data.sqlite',if_exists=\"replace\")\n"
   ]
  },
  {
   "attachments": {},
   "cell_type": "markdown",
   "metadata": {},
   "source": [
    "## Load and write Weather Data\n",
    "The weather data is read form a local text file. This is due to the fact that it is only accesable through a zip folder online. "
   ]
  },
  {
   "cell_type": "code",
   "execution_count": 2,
   "metadata": {},
   "outputs": [
    {
     "data": {
      "text/plain": [
       "290701"
      ]
     },
     "execution_count": 2,
     "metadata": {},
     "output_type": "execute_result"
    }
   ],
   "source": [
    "df = pd.read_csv(\"/home/wicket/Downloads/stundenwerte_TF_01766_19891001_20221231_hist/produkt_tf_stunde_19891001_20221231_01766.txt\",sep=\";\")\n",
    "\n",
    "df.to_sql(\"weather\",'sqlite:///data.sqlite',if_exists=\"replace\")"
   ]
  }
 ],
 "metadata": {
  "kernelspec": {
   "display_name": "Python 3",
   "language": "python",
   "name": "python3"
  },
  "language_info": {
   "codemirror_mode": {
    "name": "ipython",
    "version": 3
   },
   "file_extension": ".py",
   "mimetype": "text/x-python",
   "name": "python",
   "nbconvert_exporter": "python",
   "pygments_lexer": "ipython3",
   "version": "3.10.6"
  },
  "orig_nbformat": 4
 },
 "nbformat": 4,
 "nbformat_minor": 2
}
